{
 "cells": [
  {
   "cell_type": "code",
   "execution_count": 1,
   "metadata": {
    "collapsed": true
   },
   "outputs": [],
   "source": [
    "file1 = \"/Users/Bianbian/Documents/Work/edX/DS101X-3T2015/ColumbiaX-DS101X-3T2015-prod-3.mongo\"\n",
    "import pandas as pd\n",
    "import json\n",
    "with open(file1,'r') as f:\n",
    "    mongo = []\n",
    "    for eachline in f:\n",
    "        mongo.append(json.loads(eachline))\n",
    "df = pd.DataFrame.from_dict(mongo)"
   ]
  },
  {
   "cell_type": "code",
   "execution_count": 2,
   "metadata": {
    "collapsed": false,
    "scrolled": true
   },
   "outputs": [],
   "source": [
    "def read_child(dataframe,original,node):\n",
    "    dataframe[str(original)] =  dataframe[str(original)].apply(pd.Series)[str(node)]\n",
    "read_child(df,'_id','$oid')\n",
    "read_child(df,'parent_id','$oid')\n",
    "read_child(df,'comment_thread_id','$oid')\n",
    "read_child(df,'created_at','$date')\n",
    "read_child(df,'updated_at','$date')\n",
    "read_child(df,'last_activity_at','$date')\n",
    "\n",
    "# For Visualization, drop some columns that are not used:\n",
    "df_vis = df.drop(['votes','parent_ids'],1)"
   ]
  },
  {
   "cell_type": "code",
   "execution_count": 3,
   "metadata": {
    "collapsed": false
   },
   "outputs": [],
   "source": [
    "df_vis.to_csv('/Users/Bianbian/Documents/Work/edX/DS101X-3T2015/3T2015mongo_vis.csv',encoding='utf-8')"
   ]
  },
  {
   "cell_type": "code",
   "execution_count": null,
   "metadata": {
    "collapsed": true
   },
   "outputs": [],
   "source": []
  }
 ],
 "metadata": {
  "kernelspec": {
   "display_name": "Python 2",
   "language": "python",
   "name": "python2"
  },
  "language_info": {
   "codemirror_mode": {
    "name": "ipython",
    "version": 2
   },
   "file_extension": ".py",
   "mimetype": "text/x-python",
   "name": "python",
   "nbconvert_exporter": "python",
   "pygments_lexer": "ipython2",
   "version": "2.7.11"
  }
 },
 "nbformat": 4,
 "nbformat_minor": 0
}
