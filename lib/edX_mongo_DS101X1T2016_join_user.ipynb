{
 "cells": [
  {
   "cell_type": "markdown",
   "metadata": {},
   "source": [
    "# Joining User Data\n",
    "_Laste Updated Monday Jul. 7th By Jing_   \n",
    "This .ipynb file joins user data stored in:  \n",
    "- auth_user  \n",
    "- auth_user_profille  \n",
    "- student_languageproficiency  \n",
    "- student_courseenrollment  \n",
    "\n",
    "where:  \n",
    "- The `student_profile_id` in `student_languageproficiency` is the `id` field in `auth_user_profile`;  \n",
    "- `auth_user_profille` and `student_courseenrollment` share common field `user_id`, which is the `id` field in `auth_user`  \n",
    "\n",
    "*Note:*  \n",
    "`student_anonymoususerid` is also user data but I didn't find out how could it be relevant. Needs further investigation."
   ]
  },
  {
   "cell_type": "code",
   "execution_count": 1,
   "metadata": {
    "collapsed": true
   },
   "outputs": [],
   "source": [
    "import pandas as pd\n",
    "import numpy as np\n",
    "import cPickle as pickle"
   ]
  },
  {
   "cell_type": "code",
   "execution_count": 2,
   "metadata": {
    "collapsed": false
   },
   "outputs": [
    {
     "name": "stdout",
     "output_type": "stream",
     "text": [
      "(33955, 44)\n",
      "(33955, 35)\n"
     ]
    }
   ],
   "source": [
    "\"\"\"\n",
    "We already read all sql files into the clean directory \"sqldir\" using transfer_sql \n",
    "\"\"\"\n",
    "sqldir = \"/Users/Bianbian/Documents/Work/edX/pydata/\" # Directory that keeps all .p data\n",
    "course1 = \"ColumbiaX-DS101X-1T2016-\" # First part: might change according to course/T\n",
    "course2 =\"-prod-analytics.p\" # Latter part: fixed\n",
    "#Define load function\n",
    "def open_sql(name):\n",
    "    with open (sqldir + course1 + name + course2) as f:\n",
    "        return pickle.load(f)\n",
    "    \n",
    "user = open_sql(\"auth_user\")\n",
    "profile = open_sql(\"auth_userprofile\")\n",
    "# anno = open_sql(\"student_anonymoususerid\")\n",
    "lang = open_sql(\"student_languageproficiency\")\n",
    "enrol= open_sql(\"student_courseenrollment\")\n",
    "\n",
    "left = user\n",
    "right = pd.merge(profile,enrol,how='left',on='user_id',suffixes=['', '_enroll']) #pr:profile\n",
    "right.rename(columns={'id':'user_profile_id'},inplace=True)\n",
    "right = pd.merge(right,lang,how= 'left', on='user_profile_id',suffixes=['', '_language'])\n",
    "\"Index join\"\n",
    "left = user.set_index('id')\n",
    "right=right.set_index('user_id')\n",
    "result=left.join(right, lsuffix = '_user', rsuffix= '_pel')\n",
    "# Now the index is 'user_id' which uniquely identifies any user record\n",
    "print result.shape\n",
    "# Removing all-nan columns\n",
    "result.replace('',np.nan,inplace=True)\n",
    "result.replace('NULL',np.nan,inplace= True)\n",
    "result = result.dropna(axis =1, how = \"all\")\n",
    "print result.shape"
   ]
  },
  {
   "cell_type": "code",
   "execution_count": 3,
   "metadata": {
    "collapsed": true
   },
   "outputs": [],
   "source": [
    "result.to_csv(\"full_profile.csv\")"
   ]
  },
  {
   "cell_type": "code",
   "execution_count": null,
   "metadata": {
    "collapsed": true
   },
   "outputs": [],
   "source": []
  }
 ],
 "metadata": {
  "kernelspec": {
   "display_name": "Python 2",
   "language": "python",
   "name": "python2"
  },
  "language_info": {
   "codemirror_mode": {
    "name": "ipython",
    "version": 2
   },
   "file_extension": ".py",
   "mimetype": "text/x-python",
   "name": "python",
   "nbconvert_exporter": "python",
   "pygments_lexer": "ipython2",
   "version": "2.7.11"
  }
 },
 "nbformat": 4,
 "nbformat_minor": 0
}
