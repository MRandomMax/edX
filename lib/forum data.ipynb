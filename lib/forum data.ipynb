{
 "cells": [
  {
   "cell_type": "markdown",
   "metadata": {},
   "source": [
    "# Prepare forum.csv from mongo file"
   ]
  },
  {
   "cell_type": "code",
   "execution_count": 4,
   "metadata": {
    "collapsed": true
   },
   "outputs": [],
   "source": [
    "clean_path = '/Users/Zoe/Documents/research/edXproject/fall2015/clean_data/'\n",
    "raw_path = '/Users/Zoe/Documents/research/edXproject/fall2015/raw_data/'"
   ]
  },
  {
   "cell_type": "code",
   "execution_count": 5,
   "metadata": {
    "collapsed": true
   },
   "outputs": [],
   "source": [
    "filename = 'ColumbiaX-DS101X-3T2015-prod.mongo'"
   ]
  },
  {
   "cell_type": "code",
   "execution_count": 21,
   "metadata": {
    "collapsed": false
   },
   "outputs": [],
   "source": [
    "import json\n",
    "\n",
    "mong = []\n",
    "with open(raw_path+filename) as f:\n",
    "    for each in f:\n",
    "        mong.append(json.loads(each.strip()))"
   ]
  },
  {
   "cell_type": "code",
   "execution_count": 136,
   "metadata": {
    "collapsed": false
   },
   "outputs": [],
   "source": [
    "import pandas as pd\n",
    "\n",
    "df = pd.DataFrame(mong)"
   ]
  },
  {
   "cell_type": "code",
   "execution_count": 137,
   "metadata": {
    "collapsed": false,
    "scrolled": true
   },
   "outputs": [
    {
     "data": {
      "text/html": [
       "<div>\n",
       "<table border=\"1\" class=\"dataframe\">\n",
       "  <thead>\n",
       "    <tr style=\"text-align: right;\">\n",
       "      <th></th>\n",
       "      <th>_id</th>\n",
       "      <th>_type</th>\n",
       "      <th>abuse_flaggers</th>\n",
       "      <th>anonymous</th>\n",
       "      <th>anonymous_to_peers</th>\n",
       "      <th>at_position_list</th>\n",
       "      <th>author_id</th>\n",
       "      <th>author_username</th>\n",
       "      <th>body</th>\n",
       "      <th>child_count</th>\n",
       "      <th>closed</th>\n",
       "      <th>comment_count</th>\n",
       "      <th>comment_thread_id</th>\n",
       "      <th>commentable_id</th>\n",
       "      <th>context</th>\n",
       "      <th>course_id</th>\n",
       "      <th>created_at</th>\n",
       "      <th>depth</th>\n",
       "      <th>endorsed</th>\n",
       "      <th>endorsement</th>\n",
       "      <th>historical_abuse_flaggers</th>\n",
       "      <th>last_activity_at</th>\n",
       "      <th>parent_id</th>\n",
       "      <th>parent_ids</th>\n",
       "      <th>pinned</th>\n",
       "      <th>sk</th>\n",
       "      <th>thread_type</th>\n",
       "      <th>title</th>\n",
       "      <th>updated_at</th>\n",
       "      <th>visible</th>\n",
       "      <th>votes</th>\n",
       "    </tr>\n",
       "  </thead>\n",
       "  <tbody>\n",
       "    <tr>\n",
       "      <th>0</th>\n",
       "      <td>{u'$oid': u'56c7c945c01ce005200004e9'}</td>\n",
       "      <td>Comment</td>\n",
       "      <td>[]</td>\n",
       "      <td>False</td>\n",
       "      <td>False</td>\n",
       "      <td>[]</td>\n",
       "      <td>7281568</td>\n",
       "      <td>curioussa</td>\n",
       "      <td>3J and 3k - These two lectures would have helped more had they been done with \\n1) Professor showing more interest and purpose in delivering the l...</td>\n",
       "      <td>NaN</td>\n",
       "      <td>NaN</td>\n",
       "      <td>NaN</td>\n",
       "      <td>{u'$oid': u'56856c6af2ff88e9d1000588'}</td>\n",
       "      <td>NaN</td>\n",
       "      <td>NaN</td>\n",
       "      <td>course-v1:ColumbiaX+DS101X+3T2015</td>\n",
       "      <td>{u'$date': u'2016-02-20T02:02:45.616Z'}</td>\n",
       "      <td>0.0</td>\n",
       "      <td>False</td>\n",
       "      <td>NaN</td>\n",
       "      <td>[]</td>\n",
       "      <td>NaN</td>\n",
       "      <td>NaN</td>\n",
       "      <td>[]</td>\n",
       "      <td>NaN</td>\n",
       "      <td>56c7c945c01ce005200004e9</td>\n",
       "      <td>NaN</td>\n",
       "      <td>NaN</td>\n",
       "      <td>{u'$date': u'2016-02-20T03:15:44.998Z'}</td>\n",
       "      <td>True</td>\n",
       "      <td>{u'count': 1, u'point': 1, u'down_count': 0, u'up': [u'7281568'], u'down': [], u'up_count': 1}</td>\n",
       "    </tr>\n",
       "    <tr>\n",
       "      <th>1</th>\n",
       "      <td>{u'$oid': u'56c78de622a8fb0530000493'}</td>\n",
       "      <td>Comment</td>\n",
       "      <td>[]</td>\n",
       "      <td>False</td>\n",
       "      <td>False</td>\n",
       "      <td>[]</td>\n",
       "      <td>8359974</td>\n",
       "      <td>Lewis_Staples</td>\n",
       "      <td>edX has announced (as of today) that this course will restart on March 7th as a \"self paced course\"</td>\n",
       "      <td>0.0</td>\n",
       "      <td>NaN</td>\n",
       "      <td>NaN</td>\n",
       "      <td>{u'$oid': u'56bd0b9117a62f03c800000e'}</td>\n",
       "      <td>NaN</td>\n",
       "      <td>NaN</td>\n",
       "      <td>course-v1:ColumbiaX+DS101X+3T2015</td>\n",
       "      <td>{u'$date': u'2016-02-19T21:49:26.324Z'}</td>\n",
       "      <td>0.0</td>\n",
       "      <td>False</td>\n",
       "      <td>NaN</td>\n",
       "      <td>[]</td>\n",
       "      <td>NaN</td>\n",
       "      <td>NaN</td>\n",
       "      <td>[]</td>\n",
       "      <td>NaN</td>\n",
       "      <td>56c78de622a8fb0530000493</td>\n",
       "      <td>NaN</td>\n",
       "      <td>NaN</td>\n",
       "      <td>{u'$date': u'2016-02-19T21:49:26.324Z'}</td>\n",
       "      <td>True</td>\n",
       "      <td>{u'count': 0, u'point': 0, u'down_count': 0, u'up': [], u'down': [], u'up_count': 0}</td>\n",
       "    </tr>\n",
       "    <tr>\n",
       "      <th>2</th>\n",
       "      <td>{u'$oid': u'56c2c174c01ce005260001ce'}</td>\n",
       "      <td>Comment</td>\n",
       "      <td>[]</td>\n",
       "      <td>False</td>\n",
       "      <td>False</td>\n",
       "      <td>[]</td>\n",
       "      <td>5520665</td>\n",
       "      <td>mattwu25</td>\n",
       "      <td>There is no certificate when you are doing the course after it as ended</td>\n",
       "      <td>0.0</td>\n",
       "      <td>NaN</td>\n",
       "      <td>NaN</td>\n",
       "      <td>{u'$oid': u'56bd0b9117a62f03c800000e'}</td>\n",
       "      <td>NaN</td>\n",
       "      <td>NaN</td>\n",
       "      <td>course-v1:ColumbiaX+DS101X+3T2015</td>\n",
       "      <td>{u'$date': u'2016-02-16T06:28:04.753Z'}</td>\n",
       "      <td>0.0</td>\n",
       "      <td>False</td>\n",
       "      <td>NaN</td>\n",
       "      <td>[]</td>\n",
       "      <td>NaN</td>\n",
       "      <td>NaN</td>\n",
       "      <td>[]</td>\n",
       "      <td>NaN</td>\n",
       "      <td>56c2c174c01ce005260001ce</td>\n",
       "      <td>NaN</td>\n",
       "      <td>NaN</td>\n",
       "      <td>{u'$date': u'2016-02-16T06:28:04.753Z'}</td>\n",
       "      <td>True</td>\n",
       "      <td>{u'count': 0, u'point': 0, u'down_count': 0, u'up': [], u'down': [], u'up_count': 0}</td>\n",
       "    </tr>\n",
       "  </tbody>\n",
       "</table>\n",
       "</div>"
      ],
      "text/plain": [
       "                                      _id    _type abuse_flaggers anonymous anonymous_to_peers at_position_list author_id author_username                                                                                                                                                   body  child_count closed  comment_count                       comment_thread_id commentable_id context                          course_id                               created_at  depth endorsed endorsement historical_abuse_flaggers last_activity_at parent_id parent_ids pinned                        sk thread_type title                               updated_at visible                                                                                           votes\n",
       "0  {u'$oid': u'56c7c945c01ce005200004e9'}  Comment             []     False              False               []   7281568       curioussa  3J and 3k - These two lectures would have helped more had they been done with \\n1) Professor showing more interest and purpose in delivering the l...          NaN    NaN            NaN  {u'$oid': u'56856c6af2ff88e9d1000588'}            NaN     NaN  course-v1:ColumbiaX+DS101X+3T2015  {u'$date': u'2016-02-20T02:02:45.616Z'}    0.0    False         NaN                        []              NaN       NaN         []    NaN  56c7c945c01ce005200004e9         NaN   NaN  {u'$date': u'2016-02-20T03:15:44.998Z'}    True  {u'count': 1, u'point': 1, u'down_count': 0, u'up': [u'7281568'], u'down': [], u'up_count': 1}\n",
       "1  {u'$oid': u'56c78de622a8fb0530000493'}  Comment             []     False              False               []   8359974   Lewis_Staples                                                    edX has announced (as of today) that this course will restart on March 7th as a \"self paced course\"          0.0    NaN            NaN  {u'$oid': u'56bd0b9117a62f03c800000e'}            NaN     NaN  course-v1:ColumbiaX+DS101X+3T2015  {u'$date': u'2016-02-19T21:49:26.324Z'}    0.0    False         NaN                        []              NaN       NaN         []    NaN  56c78de622a8fb0530000493         NaN   NaN  {u'$date': u'2016-02-19T21:49:26.324Z'}    True            {u'count': 0, u'point': 0, u'down_count': 0, u'up': [], u'down': [], u'up_count': 0}\n",
       "2  {u'$oid': u'56c2c174c01ce005260001ce'}  Comment             []     False              False               []   5520665        mattwu25                                                                                There is no certificate when you are doing the course after it as ended          0.0    NaN            NaN  {u'$oid': u'56bd0b9117a62f03c800000e'}            NaN     NaN  course-v1:ColumbiaX+DS101X+3T2015  {u'$date': u'2016-02-16T06:28:04.753Z'}    0.0    False         NaN                        []              NaN       NaN         []    NaN  56c2c174c01ce005260001ce         NaN   NaN  {u'$date': u'2016-02-16T06:28:04.753Z'}    True            {u'count': 0, u'point': 0, u'down_count': 0, u'up': [], u'down': [], u'up_count': 0}"
      ]
     },
     "execution_count": 137,
     "metadata": {},
     "output_type": "execute_result"
    }
   ],
   "source": [
    "pd.set_option('display.max_columns',50)\n",
    "df.head(3)"
   ]
  },
  {
   "cell_type": "markdown",
   "metadata": {},
   "source": [
    "### strip 'oid' and 'date' indicator in several columns"
   ]
  },
  {
   "cell_type": "code",
   "execution_count": 138,
   "metadata": {
    "collapsed": true
   },
   "outputs": [],
   "source": [
    "import numpy as np\n",
    "\n",
    "def my_single_filter(x,k):\n",
    "    try:\n",
    "        return x[k]\n",
    "    except:\n",
    "        return np.nan\n",
    "    \n",
    "def my_list_filter(x,k):\n",
    "    try:\n",
    "        return [item[k] for item in x]\n",
    "    except:\n",
    "        return np.nan"
   ]
  },
  {
   "cell_type": "code",
   "execution_count": 139,
   "metadata": {
    "collapsed": false
   },
   "outputs": [],
   "source": [
    "df['_id'] = df['_id'].apply(my_single_filter, args=('$oid',))\n",
    "df['comment_thread_id'] = df['comment_thread_id'].apply(my_single_filter, args=('$oid',))\n",
    "df['created_at']= df['created_at'].apply(my_single_filter,args=('$date',))\n",
    "df['updated_at'] = df['updated_at'].apply(my_single_filter,args=('$date',))\n",
    "df['parent_id'] = df['parent_id'].apply(my_single_filter, args=('$oid',))\n",
    "df['parent_ids'] = df['parent_ids'].apply(my_list_filter, args=('$oid',))"
   ]
  },
  {
   "cell_type": "code",
   "execution_count": 140,
   "metadata": {
    "collapsed": false
   },
   "outputs": [],
   "source": [
    "df.to_csv(clean_path+'forum.csv',encoding='utf-8')"
   ]
  },
  {
   "cell_type": "markdown",
   "metadata": {},
   "source": [
    "# Further clean forum.csv"
   ]
  },
  {
   "cell_type": "code",
   "execution_count": 157,
   "metadata": {
    "collapsed": false
   },
   "outputs": [
    {
     "data": {
      "text/plain": [
       "(10900, 31)"
      ]
     },
     "execution_count": 157,
     "metadata": {},
     "output_type": "execute_result"
    }
   ],
   "source": [
    "clean_df = pd.DataFrame.from_csv(clean_path+'forum.csv');clean_df.shape"
   ]
  },
  {
   "cell_type": "code",
   "execution_count": 144,
   "metadata": {
    "collapsed": false,
    "scrolled": true
   },
   "outputs": [
    {
     "data": {
      "text/html": [
       "<div>\n",
       "<table border=\"1\" class=\"dataframe\">\n",
       "  <thead>\n",
       "    <tr style=\"text-align: right;\">\n",
       "      <th></th>\n",
       "      <th>_id</th>\n",
       "      <th>_type</th>\n",
       "      <th>abuse_flaggers</th>\n",
       "      <th>anonymous</th>\n",
       "      <th>anonymous_to_peers</th>\n",
       "      <th>at_position_list</th>\n",
       "      <th>author_id</th>\n",
       "      <th>author_username</th>\n",
       "      <th>body</th>\n",
       "      <th>child_count</th>\n",
       "      <th>closed</th>\n",
       "      <th>comment_count</th>\n",
       "      <th>comment_thread_id</th>\n",
       "      <th>commentable_id</th>\n",
       "      <th>context</th>\n",
       "      <th>course_id</th>\n",
       "      <th>created_at</th>\n",
       "      <th>depth</th>\n",
       "      <th>endorsed</th>\n",
       "      <th>endorsement</th>\n",
       "      <th>historical_abuse_flaggers</th>\n",
       "      <th>last_activity_at</th>\n",
       "      <th>parent_id</th>\n",
       "      <th>parent_ids</th>\n",
       "      <th>pinned</th>\n",
       "      <th>sk</th>\n",
       "      <th>thread_type</th>\n",
       "      <th>title</th>\n",
       "      <th>updated_at</th>\n",
       "      <th>visible</th>\n",
       "      <th>votes</th>\n",
       "    </tr>\n",
       "  </thead>\n",
       "  <tbody>\n",
       "    <tr>\n",
       "      <th>0</th>\n",
       "      <td>56c7c945c01ce005200004e9</td>\n",
       "      <td>Comment</td>\n",
       "      <td>[]</td>\n",
       "      <td>False</td>\n",
       "      <td>False</td>\n",
       "      <td>[]</td>\n",
       "      <td>7281568</td>\n",
       "      <td>curioussa</td>\n",
       "      <td>3J and 3k - These two lectures would have helped more had they been done with \\n1) Professor showing more interest and purpose in delivering the l...</td>\n",
       "      <td>NaN</td>\n",
       "      <td>NaN</td>\n",
       "      <td>NaN</td>\n",
       "      <td>56856c6af2ff88e9d1000588</td>\n",
       "      <td>NaN</td>\n",
       "      <td>NaN</td>\n",
       "      <td>course-v1:ColumbiaX+DS101X+3T2015</td>\n",
       "      <td>2016-02-20T02:02:45.616Z</td>\n",
       "      <td>0.0</td>\n",
       "      <td>False</td>\n",
       "      <td>NaN</td>\n",
       "      <td>[]</td>\n",
       "      <td>NaN</td>\n",
       "      <td>NaN</td>\n",
       "      <td>[]</td>\n",
       "      <td>NaN</td>\n",
       "      <td>56c7c945c01ce005200004e9</td>\n",
       "      <td>NaN</td>\n",
       "      <td>NaN</td>\n",
       "      <td>2016-02-20T03:15:44.998Z</td>\n",
       "      <td>True</td>\n",
       "      <td>{u'count': 1, u'point': 1, u'down_count': 0, u'up': [u'7281568'], u'down': [], u'up_count': 1}</td>\n",
       "    </tr>\n",
       "    <tr>\n",
       "      <th>1</th>\n",
       "      <td>56c78de622a8fb0530000493</td>\n",
       "      <td>Comment</td>\n",
       "      <td>[]</td>\n",
       "      <td>False</td>\n",
       "      <td>False</td>\n",
       "      <td>[]</td>\n",
       "      <td>8359974</td>\n",
       "      <td>Lewis_Staples</td>\n",
       "      <td>edX has announced (as of today) that this course will restart on March 7th as a \"self paced course\"</td>\n",
       "      <td>0.0</td>\n",
       "      <td>NaN</td>\n",
       "      <td>NaN</td>\n",
       "      <td>56bd0b9117a62f03c800000e</td>\n",
       "      <td>NaN</td>\n",
       "      <td>NaN</td>\n",
       "      <td>course-v1:ColumbiaX+DS101X+3T2015</td>\n",
       "      <td>2016-02-19T21:49:26.324Z</td>\n",
       "      <td>0.0</td>\n",
       "      <td>False</td>\n",
       "      <td>NaN</td>\n",
       "      <td>[]</td>\n",
       "      <td>NaN</td>\n",
       "      <td>NaN</td>\n",
       "      <td>[]</td>\n",
       "      <td>NaN</td>\n",
       "      <td>56c78de622a8fb0530000493</td>\n",
       "      <td>NaN</td>\n",
       "      <td>NaN</td>\n",
       "      <td>2016-02-19T21:49:26.324Z</td>\n",
       "      <td>True</td>\n",
       "      <td>{u'count': 0, u'point': 0, u'down_count': 0, u'up': [], u'down': [], u'up_count': 0}</td>\n",
       "    </tr>\n",
       "    <tr>\n",
       "      <th>2</th>\n",
       "      <td>56c2c174c01ce005260001ce</td>\n",
       "      <td>Comment</td>\n",
       "      <td>[]</td>\n",
       "      <td>False</td>\n",
       "      <td>False</td>\n",
       "      <td>[]</td>\n",
       "      <td>5520665</td>\n",
       "      <td>mattwu25</td>\n",
       "      <td>There is no certificate when you are doing the course after it as ended</td>\n",
       "      <td>0.0</td>\n",
       "      <td>NaN</td>\n",
       "      <td>NaN</td>\n",
       "      <td>56bd0b9117a62f03c800000e</td>\n",
       "      <td>NaN</td>\n",
       "      <td>NaN</td>\n",
       "      <td>course-v1:ColumbiaX+DS101X+3T2015</td>\n",
       "      <td>2016-02-16T06:28:04.753Z</td>\n",
       "      <td>0.0</td>\n",
       "      <td>False</td>\n",
       "      <td>NaN</td>\n",
       "      <td>[]</td>\n",
       "      <td>NaN</td>\n",
       "      <td>NaN</td>\n",
       "      <td>[]</td>\n",
       "      <td>NaN</td>\n",
       "      <td>56c2c174c01ce005260001ce</td>\n",
       "      <td>NaN</td>\n",
       "      <td>NaN</td>\n",
       "      <td>2016-02-16T06:28:04.753Z</td>\n",
       "      <td>True</td>\n",
       "      <td>{u'count': 0, u'point': 0, u'down_count': 0, u'up': [], u'down': [], u'up_count': 0}</td>\n",
       "    </tr>\n",
       "  </tbody>\n",
       "</table>\n",
       "</div>"
      ],
      "text/plain": [
       "                        _id    _type abuse_flaggers anonymous anonymous_to_peers at_position_list  author_id author_username                                                                                                                                                   body  child_count closed  comment_count         comment_thread_id commentable_id context                          course_id                created_at  depth endorsed endorsement historical_abuse_flaggers last_activity_at parent_id parent_ids pinned                        sk thread_type title                updated_at visible                                                                                           votes\n",
       "0  56c7c945c01ce005200004e9  Comment             []     False              False               []    7281568       curioussa  3J and 3k - These two lectures would have helped more had they been done with \\n1) Professor showing more interest and purpose in delivering the l...          NaN    NaN            NaN  56856c6af2ff88e9d1000588            NaN     NaN  course-v1:ColumbiaX+DS101X+3T2015  2016-02-20T02:02:45.616Z    0.0    False         NaN                        []              NaN       NaN         []    NaN  56c7c945c01ce005200004e9         NaN   NaN  2016-02-20T03:15:44.998Z    True  {u'count': 1, u'point': 1, u'down_count': 0, u'up': [u'7281568'], u'down': [], u'up_count': 1}\n",
       "1  56c78de622a8fb0530000493  Comment             []     False              False               []    8359974   Lewis_Staples                                                    edX has announced (as of today) that this course will restart on March 7th as a \"self paced course\"          0.0    NaN            NaN  56bd0b9117a62f03c800000e            NaN     NaN  course-v1:ColumbiaX+DS101X+3T2015  2016-02-19T21:49:26.324Z    0.0    False         NaN                        []              NaN       NaN         []    NaN  56c78de622a8fb0530000493         NaN   NaN  2016-02-19T21:49:26.324Z    True            {u'count': 0, u'point': 0, u'down_count': 0, u'up': [], u'down': [], u'up_count': 0}\n",
       "2  56c2c174c01ce005260001ce  Comment             []     False              False               []    5520665        mattwu25                                                                                There is no certificate when you are doing the course after it as ended          0.0    NaN            NaN  56bd0b9117a62f03c800000e            NaN     NaN  course-v1:ColumbiaX+DS101X+3T2015  2016-02-16T06:28:04.753Z    0.0    False         NaN                        []              NaN       NaN         []    NaN  56c2c174c01ce005260001ce         NaN   NaN  2016-02-16T06:28:04.753Z    True            {u'count': 0, u'point': 0, u'down_count': 0, u'up': [], u'down': [], u'up_count': 0}"
      ]
     },
     "execution_count": 144,
     "metadata": {},
     "output_type": "execute_result"
    }
   ],
   "source": [
    "clean_df.head(3)"
   ]
  },
  {
   "cell_type": "markdown",
   "metadata": {},
   "source": [
    "### a brief description about each column missing value and example value"
   ]
  },
  {
   "cell_type": "code",
   "execution_count": 193,
   "metadata": {
    "collapsed": true
   },
   "outputs": [],
   "source": [
    "def show_nonNaN(colname):\n",
    "    nonNaN = clean_df[colname].dropna()\n",
    "    n_nonNaN = nonNaN.shape[0]\n",
    "    try:\n",
    "        ex = nonNaN.iloc[0]\n",
    "        if ex=='[]':\n",
    "            try:\n",
    "                return [n_nonNaN,nonNaN[nonNaN!=ex].iloc[0]]\n",
    "            except:\n",
    "                return [n_nonNaN,\"except NaNs all are '[]'\"]\n",
    "        else:\n",
    "            return [n_nonNaN,ex]\n",
    "    except:\n",
    "        return 'all are NaNs'"
   ]
  },
  {
   "cell_type": "code",
   "execution_count": 209,
   "metadata": {
    "collapsed": false,
    "scrolled": true
   },
   "outputs": [
    {
     "data": {
      "text/html": [
       "<div>\n",
       "<table border=\"1\" class=\"dataframe\">\n",
       "  <thead>\n",
       "    <tr style=\"text-align: right;\">\n",
       "      <th></th>\n",
       "      <th>_id</th>\n",
       "      <th>_type</th>\n",
       "      <th>abuse_flaggers</th>\n",
       "      <th>anonymous</th>\n",
       "      <th>anonymous_to_peers</th>\n",
       "      <th>at_position_list</th>\n",
       "      <th>author_id</th>\n",
       "      <th>author_username</th>\n",
       "      <th>body</th>\n",
       "      <th>child_count</th>\n",
       "      <th>closed</th>\n",
       "      <th>comment_count</th>\n",
       "      <th>comment_thread_id</th>\n",
       "      <th>commentable_id</th>\n",
       "      <th>context</th>\n",
       "      <th>course_id</th>\n",
       "      <th>created_at</th>\n",
       "      <th>depth</th>\n",
       "      <th>endorsed</th>\n",
       "      <th>endorsement</th>\n",
       "      <th>historical_abuse_flaggers</th>\n",
       "      <th>last_activity_at</th>\n",
       "      <th>parent_id</th>\n",
       "      <th>parent_ids</th>\n",
       "      <th>pinned</th>\n",
       "      <th>sk</th>\n",
       "      <th>thread_type</th>\n",
       "      <th>title</th>\n",
       "      <th>updated_at</th>\n",
       "      <th>visible</th>\n",
       "      <th>votes</th>\n",
       "    </tr>\n",
       "  </thead>\n",
       "  <tbody>\n",
       "    <tr>\n",
       "      <th>NaN_count</th>\n",
       "      <td>10900</td>\n",
       "      <td>10900</td>\n",
       "      <td>10900</td>\n",
       "      <td>10900</td>\n",
       "      <td>10900</td>\n",
       "      <td>10900</td>\n",
       "      <td>10900</td>\n",
       "      <td>10900</td>\n",
       "      <td>10900</td>\n",
       "      <td>987</td>\n",
       "      <td>6263</td>\n",
       "      <td>6263</td>\n",
       "      <td>4637</td>\n",
       "      <td>6263</td>\n",
       "      <td>6263</td>\n",
       "      <td>10900</td>\n",
       "      <td>10900</td>\n",
       "      <td>1224</td>\n",
       "      <td>4637</td>\n",
       "      <td>214</td>\n",
       "      <td>10900</td>\n",
       "      <td>6263</td>\n",
       "      <td>1604</td>\n",
       "      <td>4637</td>\n",
       "      <td>25</td>\n",
       "      <td>4637</td>\n",
       "      <td>6263</td>\n",
       "      <td>6263</td>\n",
       "      <td>10900</td>\n",
       "      <td>10900</td>\n",
       "      <td>10900</td>\n",
       "    </tr>\n",
       "    <tr>\n",
       "      <th>instance</th>\n",
       "      <td>56c7c945c01ce005200004e9</td>\n",
       "      <td>Comment</td>\n",
       "      <td>[1428050]</td>\n",
       "      <td>False</td>\n",
       "      <td>False</td>\n",
       "      <td>except NaNs all are '[]'</td>\n",
       "      <td>7281568</td>\n",
       "      <td>curioussa</td>\n",
       "      <td>3J and 3k - These two lectures would have helped more had they been done with \\n1) Professor showing more interest and purpose in delivering the l...</td>\n",
       "      <td>0</td>\n",
       "      <td>False</td>\n",
       "      <td>0</td>\n",
       "      <td>56856c6af2ff88e9d1000588</td>\n",
       "      <td>2905795b584194bc41ebe4259f85c770b22daea9</td>\n",
       "      <td>course</td>\n",
       "      <td>course-v1:ColumbiaX+DS101X+3T2015</td>\n",
       "      <td>2016-02-20T02:02:45.616Z</td>\n",
       "      <td>0</td>\n",
       "      <td>False</td>\n",
       "      <td>{u'user_id': u'9122600', u'time': {u'$date': u'2016-01-23T23:52:38.848Z'}}</td>\n",
       "      <td>[6928155]</td>\n",
       "      <td>{u'$date': u'2016-05-31T17:28:39.218Z'}</td>\n",
       "      <td>56956b5e5fd709051400048a</td>\n",
       "      <td>[56956b5e5fd709051400048a]</td>\n",
       "      <td>True</td>\n",
       "      <td>56c7c945c01ce005200004e9</td>\n",
       "      <td>discussion</td>\n",
       "      <td>How would you measure data literacy?</td>\n",
       "      <td>2016-02-20T03:15:44.998Z</td>\n",
       "      <td>True</td>\n",
       "      <td>{u'count': 1, u'point': 1, u'down_count': 0, u'up': [u'7281568'], u'down': [], u'up_count': 1}</td>\n",
       "    </tr>\n",
       "  </tbody>\n",
       "</table>\n",
       "</div>"
      ],
      "text/plain": [
       "                                _id    _type abuse_flaggers anonymous anonymous_to_peers          at_position_list author_id author_username                                                                                                                                                   body child_count closed comment_count         comment_thread_id                            commentable_id context                          course_id                created_at depth endorsed                                                                 endorsement historical_abuse_flaggers                         last_activity_at                 parent_id                  parent_ids pinned                        sk thread_type                                 title                updated_at visible                                                                                           votes\n",
       "NaN_count                     10900    10900          10900     10900              10900                     10900     10900           10900                                                                                                                                                  10900         987   6263          6263                      4637                                      6263    6263                              10900                     10900  1224     4637                                                                         214                     10900                                     6263                      1604                        4637     25                      4637        6263                                  6263                     10900   10900                                                                                           10900\n",
       "instance   56c7c945c01ce005200004e9  Comment      [1428050]     False              False  except NaNs all are '[]'   7281568       curioussa  3J and 3k - These two lectures would have helped more had they been done with \\n1) Professor showing more interest and purpose in delivering the l...           0  False             0  56856c6af2ff88e9d1000588  2905795b584194bc41ebe4259f85c770b22daea9  course  course-v1:ColumbiaX+DS101X+3T2015  2016-02-20T02:02:45.616Z     0    False  {u'user_id': u'9122600', u'time': {u'$date': u'2016-01-23T23:52:38.848Z'}}                 [6928155]  {u'$date': u'2016-05-31T17:28:39.218Z'}  56956b5e5fd709051400048a  [56956b5e5fd709051400048a]   True  56c7c945c01ce005200004e9  discussion  How would you measure data literacy?  2016-02-20T03:15:44.998Z    True  {u'count': 1, u'point': 1, u'down_count': 0, u'up': [u'7281568'], u'down': [], u'up_count': 1}"
      ]
     },
     "execution_count": 209,
     "metadata": {},
     "output_type": "execute_result"
    }
   ],
   "source": [
    "des = []\n",
    "for each in clean_df.columns:\n",
    "    dic = {}\n",
    "    dic['NaN_count'],dic['instance'] = show_nonNaN(each)\n",
    "    des.append(dic)\n",
    "descrpt = pd.DataFrame(des)\n",
    "descrpt.index = clean_df.columns;descrpt.transpose()"
   ]
  },
  {
   "cell_type": "markdown",
   "metadata": {},
   "source": [
    "### select valid columns to explore in tableau"
   ]
  },
  {
   "cell_type": "code",
   "execution_count": 214,
   "metadata": {
    "collapsed": false
   },
   "outputs": [],
   "source": [
    "valid_forum = clean_df[['_id','_type','author_id','child_count','comment_count','context','created_at','endorsed',\n",
    "                       'last_activity_at','pinned','thread_type','updated_at']]"
   ]
  },
  {
   "cell_type": "code",
   "execution_count": 215,
   "metadata": {
    "collapsed": false
   },
   "outputs": [],
   "source": [
    "valid_forum.to_csv(clean_path+'valid_forum.csv')"
   ]
  },
  {
   "cell_type": "code",
   "execution_count": null,
   "metadata": {
    "collapsed": true
   },
   "outputs": [],
   "source": []
  }
 ],
 "metadata": {
  "kernelspec": {
   "display_name": "Python 2",
   "language": "python",
   "name": "python2"
  },
  "language_info": {
   "codemirror_mode": {
    "name": "ipython",
    "version": 2
   },
   "file_extension": ".py",
   "mimetype": "text/x-python",
   "name": "python",
   "nbconvert_exporter": "python",
   "pygments_lexer": "ipython2",
   "version": "2.7.12"
  }
 },
 "nbformat": 4,
 "nbformat_minor": 0
}
